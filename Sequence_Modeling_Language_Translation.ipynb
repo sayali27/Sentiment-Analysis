{
  "nbformat": 4,
  "nbformat_minor": 0,
  "metadata": {
    "colab": {
      "name": "Sequence Modeling_Language Translation.ipynb",
      "provenance": [],
      "collapsed_sections": [],
      "include_colab_link": true
    },
    "kernelspec": {
      "name": "python3",
      "display_name": "Python 3"
    },
    "accelerator": "GPU"
  },
  "cells": [
    {
      "cell_type": "markdown",
      "metadata": {
        "id": "view-in-github",
        "colab_type": "text"
      },
      "source": [
        "<a href=\"https://colab.research.google.com/github/sayali27/Sentiment-Analysis/blob/master/Sequence_Modeling_Language_Translation.ipynb\" target=\"_parent\"><img src=\"https://colab.research.google.com/assets/colab-badge.svg\" alt=\"Open In Colab\"/></a>"
      ]
    },
    {
      "cell_type": "markdown",
      "metadata": {
        "id": "MuXH87zg1hHJ"
      },
      "source": [
        "Dataset: https://www.kaggle.com/jannesklaas/frenchenglish-bilingual-pairs"
      ]
    },
    {
      "cell_type": "markdown",
      "metadata": {
        "id": "7vY3i3zP1ldf"
      },
      "source": [
        "#Importing required libraries"
      ]
    },
    {
      "cell_type": "code",
      "metadata": {
        "id": "OdtsVuQTV6_u"
      },
      "source": [
        "#Importing library\n",
        "import os, sys, time, random\n",
        "import h5py\n",
        "import numpy as np\n",
        "from keras.models import Model\n",
        "from keras.layers import Input, LSTM, Dense\n",
        "from keras.utils import *\n",
        "from keras.initializers import *\n",
        "from keras.optimizers import Adam\n",
        "import tensorflow as tf"
      ],
      "execution_count": null,
      "outputs": []
    },
    {
      "cell_type": "markdown",
      "metadata": {
        "id": "g_w81suI1uOV"
      },
      "source": [
        "#Specifying values for the hyperparameters"
      ]
    },
    {
      "cell_type": "code",
      "metadata": {
        "id": "aBfTp-F_X3AY"
      },
      "source": [
        "#Hyperparameters\n",
        "batch_size = 64  # Batch size for training.\n",
        "epochs = 100  # Number of epochs to train for.\n",
        "latent_dim = 256  # Latent dimensionality of the encoding space.\n",
        "num_samples = 10000  # Number of samples to train on."
      ],
      "execution_count": null,
      "outputs": []
    },
    {
      "cell_type": "markdown",
      "metadata": {
        "id": "6hHSyiwq16ae"
      },
      "source": [
        "#Loading and preprocessing"
      ]
    },
    {
      "cell_type": "code",
      "metadata": {
        "id": "gV14QGgHYAJg"
      },
      "source": [
        "# Vectorize the data.\n",
        "input_texts = []\n",
        "target_texts = []\n",
        "input_characters = set()\n",
        "target_characters = set()\n",
        "with open('fra.txt', 'r', encoding='utf-8') as f:\n",
        "    lines = f.read().split('\\n')\n",
        "for line in lines[: min(num_samples, len(lines) - 1)]:\n",
        "    input_text, target_text = line.split('\\t')\n",
        "    # We use \"tab\" as the \"start sequence\" character\n",
        "    # for the targets, and \"\\n\" as \"end sequence\" character.\n",
        "    target_text = '\\t' + target_text + '\\n'\n",
        "    input_texts.append(input_text)\n",
        "    target_texts.append(target_text)\n",
        "    for char in input_text:\n",
        "        if char not in input_characters:\n",
        "            input_characters.add(char)\n",
        "    for char in target_text:\n",
        "        if char not in target_characters:\n",
        "            target_characters.add(char)\n",
        "\n",
        "input_characters = sorted(list(input_characters))\n",
        "target_characters = sorted(list(target_characters))\n",
        "num_encoder_tokens = len(input_characters)\n",
        "num_decoder_tokens = len(target_characters)\n",
        "max_encoder_seq_length = max([len(txt) for txt in input_texts])\n",
        "max_decoder_seq_length = max([len(txt) for txt in target_texts])"
      ],
      "execution_count": null,
      "outputs": []
    },
    {
      "cell_type": "code",
      "metadata": {
        "id": "dadhxlzXYJYQ",
        "outputId": "3703d28f-23cf-40d0-9762-5c20c0f44c80",
        "colab": {
          "base_uri": "https://localhost:8080/",
          "height": 102
        }
      },
      "source": [
        "#Print size\n",
        "print('Number of samples:', len(input_texts))\n",
        "print('Number of unique input tokens:', num_encoder_tokens)\n",
        "print('Number of unique output tokens:', num_decoder_tokens)\n",
        "print('Max sequence length for inputs:', max_encoder_seq_length)\n",
        "print('Max sequence length for outputs:', max_decoder_seq_length)"
      ],
      "execution_count": null,
      "outputs": [
        {
          "output_type": "stream",
          "text": [
            "Number of samples: 10000\n",
            "Number of unique input tokens: 71\n",
            "Number of unique output tokens: 93\n",
            "Max sequence length for inputs: 16\n",
            "Max sequence length for outputs: 59\n"
          ],
          "name": "stdout"
        }
      ]
    },
    {
      "cell_type": "markdown",
      "metadata": {
        "id": "7cwtQvpm2f9W"
      },
      "source": [
        "#Defining data for encoder and decoder"
      ]
    },
    {
      "cell_type": "code",
      "metadata": {
        "id": "IJjuU40rYMPN"
      },
      "source": [
        "#Define data for encoder and decoder\n",
        "input_token_index = dict([(char, i) for i, char in enumerate(input_characters)])\n",
        "target_token_index = dict([(char, i) for i, char in enumerate(target_characters)])\n",
        "\n",
        "encoder_input_data = np.zeros((len(input_texts), max_encoder_seq_length, num_encoder_tokens), dtype='float32')\n",
        "decoder_input_data = np.zeros((len(input_texts), max_decoder_seq_length, num_decoder_tokens), dtype='float32')\n",
        "decoder_target_data = np.zeros((len(input_texts), max_decoder_seq_length, num_decoder_tokens), dtype='float32')\n",
        "\n",
        "for i, (input_text, target_text) in enumerate(zip(input_texts, target_texts)):\n",
        "    for t, char in enumerate(input_text):\n",
        "        encoder_input_data[i, t, input_token_index[char]] = 1.\n",
        "    for t, char in enumerate(target_text):\n",
        "        # decoder_target_data is ahead of decoder_input_data by one timestep\n",
        "        decoder_input_data[i, t, target_token_index[char]] = 1.\n",
        "        if t > 0:\n",
        "            # decoder_target_data will be ahead by one timestep\n",
        "            # and will not include the start character.\n",
        "            decoder_target_data[i, t - 1, target_token_index[char]] = 1."
      ],
      "execution_count": null,
      "outputs": []
    },
    {
      "cell_type": "markdown",
      "metadata": {
        "id": "d3erA6fm2l38"
      },
      "source": [
        "#Definining the encoder-decoder model"
      ]
    },
    {
      "cell_type": "code",
      "metadata": {
        "id": "rL5O5trIYRcN"
      },
      "source": [
        "# Define an input sequence and process it.\n",
        "encoder_inputs = Input(shape=(None, num_encoder_tokens))\n",
        "encoder = LSTM(latent_dim, return_state=True)\n",
        "encoder_outputs, state_h, state_c = encoder(encoder_inputs)\n",
        "# We discard `encoder_outputs` and only keep the states.\n",
        "encoder_states = [state_h, state_c]\n",
        "\n",
        "# Set up the decoder, using `encoder_states` as initial state.\n",
        "decoder_inputs = Input(shape=(None, num_decoder_tokens))\n",
        "# We set up our decoder to return full output sequences,\n",
        "# and to return internal states as well. We don't use the\n",
        "# return states in the training model, but we will use them in inference.\n",
        "decoder_lstm = LSTM(latent_dim, return_sequences=True, return_state=True)\n",
        "decoder_outputs, _, _ = decoder_lstm(decoder_inputs, initial_state=encoder_states)\n",
        "decoder_dense = Dense(num_decoder_tokens, activation='softmax')\n",
        "decoder_outputs = decoder_dense(decoder_outputs)\n",
        "# Define the model that will turn\n",
        "# `encoder_input_data` & `decoder_input_data` into `decoder_target_data`\n",
        "model = Model([encoder_inputs, decoder_inputs], decoder_outputs)"
      ],
      "execution_count": null,
      "outputs": []
    },
    {
      "cell_type": "code",
      "metadata": {
        "id": "oox68zX9YU7u",
        "outputId": "5a05f8cd-167f-4978-e3f1-5418f8793b78",
        "colab": {
          "base_uri": "https://localhost:8080/",
          "height": 357
        }
      },
      "source": [
        "#Model Summary\n",
        "model.summary()"
      ],
      "execution_count": null,
      "outputs": [
        {
          "output_type": "stream",
          "text": [
            "Model: \"functional_11\"\n",
            "__________________________________________________________________________________________________\n",
            "Layer (type)                    Output Shape         Param #     Connected to                     \n",
            "==================================================================================================\n",
            "input_7 (InputLayer)            [(None, None, 71)]   0                                            \n",
            "__________________________________________________________________________________________________\n",
            "input_8 (InputLayer)            [(None, None, 93)]   0                                            \n",
            "__________________________________________________________________________________________________\n",
            "lstm_2 (LSTM)                   [(None, 256), (None, 335872      input_7[0][0]                    \n",
            "__________________________________________________________________________________________________\n",
            "lstm_3 (LSTM)                   [(None, None, 256),  358400      input_8[0][0]                    \n",
            "                                                                 lstm_2[0][1]                     \n",
            "                                                                 lstm_2[0][2]                     \n",
            "__________________________________________________________________________________________________\n",
            "dense_1 (Dense)                 (None, None, 93)     23901       lstm_3[0][0]                     \n",
            "==================================================================================================\n",
            "Total params: 718,173\n",
            "Trainable params: 718,173\n",
            "Non-trainable params: 0\n",
            "__________________________________________________________________________________________________\n"
          ],
          "name": "stdout"
        }
      ]
    },
    {
      "cell_type": "code",
      "metadata": {
        "id": "y2pntCIKYYmN",
        "outputId": "8e706f3f-49d2-4f24-a824-06f90c948f1a",
        "colab": {
          "base_uri": "https://localhost:8080/",
          "height": 68
        }
      },
      "source": [
        "#Model Shape\n",
        "print(\"encoder_input_data shape:\",encoder_input_data.shape)\n",
        "print(\"decoder_input_data shape:\",decoder_input_data.shape)\n",
        "print(\"decoder_target_data shape:\",decoder_target_data.shape)"
      ],
      "execution_count": null,
      "outputs": [
        {
          "output_type": "stream",
          "text": [
            "encoder_input_data shape: (10000, 16, 71)\n",
            "decoder_input_data shape: (10000, 59, 93)\n",
            "decoder_target_data shape: (10000, 59, 93)\n"
          ],
          "name": "stdout"
        }
      ]
    },
    {
      "cell_type": "code",
      "metadata": {
        "id": "69XRTTpTYeQF",
        "outputId": "bd73ed86-3ac0-47a1-a3d4-b8611d5b33a9",
        "colab": {
          "base_uri": "https://localhost:8080/",
          "height": 422
        }
      },
      "source": [
        "#Visuaize the model\n",
        "plot_model(model,show_shapes=True)"
      ],
      "execution_count": null,
      "outputs": [
        {
          "output_type": "execute_result",
          "data": {
            "image/png": "[encoded data removed]",
            "text/plain": [
              "<IPython.core.display.Image object>"
            ]
          },
          "metadata": {
            "tags": []
          },
          "execution_count": 28
        }
      ]
    },
    {
      "cell_type": "markdown",
      "metadata": {
        "id": "1GleDtrT2tyR"
      },
      "source": [
        "#Training the model"
      ]
    },
    {
      "cell_type": "code",
      "metadata": {
        "id": "MJKvFONtYfuE",
        "outputId": "24ae7c50-bd84-4ea8-a591-3c6f4d472242",
        "colab": {
          "base_uri": "https://localhost:8080/",
          "height": 1000
        }
      },
      "source": [
        "# Compiling and training the model\n",
        "model.compile(optimizer=Adam(lr=0.01, beta_1=0.9, beta_2=0.999, decay=0.001), loss='categorical_crossentropy')\n",
        "model.fit([encoder_input_data, decoder_input_data], decoder_target_data, batch_size=batch_size, epochs=50, validation_split=0.2)"
      ],
      "execution_count": null,
      "outputs": [
        {
          "output_type": "stream",
          "text": [
            "Epoch 1/50\n",
            "  1/125 [..............................] - ETA: 0s - loss: 0.0805WARNING:tensorflow:Callbacks method `on_train_batch_end` is slow compared to the batch time (batch time: 0.0106s vs `on_train_batch_end` time: 0.0290s). Check your callbacks.\n",
            "125/125 [==============================] - 5s 39ms/step - loss: 0.2079 - val_loss: 0.5665\n",
            "Epoch 2/50\n",
            "125/125 [==============================] - 4s 32ms/step - loss: 0.1738 - val_loss: 0.5505\n",
            "Epoch 3/50\n",
            "125/125 [==============================] - 4s 32ms/step - loss: 0.1607 - val_loss: 0.5469\n",
            "Epoch 4/50\n",
            "125/125 [==============================] - 4s 32ms/step - loss: 0.1465 - val_loss: 0.5585\n",
            "Epoch 5/50\n",
            "125/125 [==============================] - 4s 32ms/step - loss: 0.1393 - val_loss: 0.5558\n",
            "Epoch 6/50\n",
            "125/125 [==============================] - 4s 32ms/step - loss: 0.1305 - val_loss: 0.5623\n",
            "Epoch 7/50\n",
            "125/125 [==============================] - 4s 32ms/step - loss: 0.1247 - val_loss: 0.5735\n",
            "Epoch 8/50\n",
            "125/125 [==============================] - 4s 32ms/step - loss: 0.1182 - val_loss: 0.5814\n",
            "Epoch 9/50\n",
            "125/125 [==============================] - 4s 32ms/step - loss: 0.1142 - val_loss: 0.5875\n",
            "Epoch 10/50\n",
            "125/125 [==============================] - 4s 32ms/step - loss: 0.1110 - val_loss: 0.5885\n",
            "Epoch 11/50\n",
            "125/125 [==============================] - 4s 32ms/step - loss: 0.1066 - val_loss: 0.5906\n",
            "Epoch 12/50\n",
            "125/125 [==============================] - 4s 32ms/step - loss: 0.1028 - val_loss: 0.6004\n",
            "Epoch 13/50\n",
            "125/125 [==============================] - 4s 32ms/step - loss: 0.0994 - val_loss: 0.6033\n",
            "Epoch 14/50\n",
            "125/125 [==============================] - 4s 32ms/step - loss: 0.0967 - val_loss: 0.6070\n",
            "Epoch 15/50\n",
            "125/125 [==============================] - 4s 32ms/step - loss: 0.0939 - val_loss: 0.6159\n",
            "Epoch 16/50\n",
            "125/125 [==============================] - 4s 32ms/step - loss: 0.0914 - val_loss: 0.6212\n",
            "Epoch 17/50\n",
            "125/125 [==============================] - 4s 32ms/step - loss: 0.0899 - val_loss: 0.6207\n",
            "Epoch 18/50\n",
            "125/125 [==============================] - 4s 32ms/step - loss: 0.0881 - val_loss: 0.6258\n",
            "Epoch 19/50\n",
            "125/125 [==============================] - 4s 32ms/step - loss: 0.0857 - val_loss: 0.6300\n",
            "Epoch 20/50\n",
            "125/125 [==============================] - 4s 32ms/step - loss: 0.0843 - val_loss: 0.6386\n",
            "Epoch 21/50\n",
            "125/125 [==============================] - 4s 32ms/step - loss: 0.0825 - val_loss: 0.6428\n",
            "Epoch 22/50\n",
            "125/125 [==============================] - 4s 32ms/step - loss: 0.0815 - val_loss: 0.6467\n",
            "Epoch 23/50\n",
            "125/125 [==============================] - 4s 32ms/step - loss: 0.0799 - val_loss: 0.6458\n",
            "Epoch 24/50\n",
            "125/125 [==============================] - 4s 32ms/step - loss: 0.0784 - val_loss: 0.6541\n",
            "Epoch 25/50\n",
            "125/125 [==============================] - 4s 32ms/step - loss: 0.0775 - val_loss: 0.6535\n",
            "Epoch 26/50\n",
            "125/125 [==============================] - 4s 32ms/step - loss: 0.0760 - val_loss: 0.6585\n",
            "Epoch 27/50\n",
            "125/125 [==============================] - 4s 32ms/step - loss: 0.0749 - val_loss: 0.6661\n",
            "Epoch 28/50\n",
            "125/125 [==============================] - 4s 32ms/step - loss: 0.0738 - val_loss: 0.6672\n",
            "Epoch 29/50\n",
            "125/125 [==============================] - 4s 32ms/step - loss: 0.0729 - val_loss: 0.6685\n",
            "Epoch 30/50\n",
            "125/125 [==============================] - 4s 32ms/step - loss: 0.0715 - val_loss: 0.6762\n",
            "Epoch 31/50\n",
            "125/125 [==============================] - 4s 32ms/step - loss: 0.0706 - val_loss: 0.6744\n",
            "Epoch 32/50\n",
            "125/125 [==============================] - 4s 32ms/step - loss: 0.0698 - val_loss: 0.6793\n",
            "Epoch 33/50\n",
            "125/125 [==============================] - 4s 32ms/step - loss: 0.0686 - val_loss: 0.6778\n",
            "Epoch 34/50\n",
            "125/125 [==============================] - 4s 32ms/step - loss: 0.0679 - val_loss: 0.6868\n",
            "Epoch 35/50\n",
            "125/125 [==============================] - 4s 32ms/step - loss: 0.0675 - val_loss: 0.6874\n",
            "Epoch 36/50\n",
            "125/125 [==============================] - 4s 32ms/step - loss: 0.0664 - val_loss: 0.6872\n",
            "Epoch 37/50\n",
            "125/125 [==============================] - 4s 32ms/step - loss: 0.0655 - val_loss: 0.6902\n",
            "Epoch 38/50\n",
            "125/125 [==============================] - 4s 32ms/step - loss: 0.0649 - val_loss: 0.6890\n",
            "Epoch 39/50\n",
            "125/125 [==============================] - 4s 32ms/step - loss: 0.0641 - val_loss: 0.6954\n",
            "Epoch 40/50\n",
            "125/125 [==============================] - 4s 32ms/step - loss: 0.0635 - val_loss: 0.7008\n",
            "Epoch 41/50\n",
            "125/125 [==============================] - 4s 32ms/step - loss: 0.0625 - val_loss: 0.6969\n",
            "Epoch 42/50\n",
            "125/125 [==============================] - 4s 32ms/step - loss: 0.0620 - val_loss: 0.6999\n",
            "Epoch 43/50\n",
            "125/125 [==============================] - 4s 32ms/step - loss: 0.0612 - val_loss: 0.7081\n",
            "Epoch 44/50\n",
            "125/125 [==============================] - 4s 32ms/step - loss: 0.0605 - val_loss: 0.7017\n",
            "Epoch 45/50\n",
            "125/125 [==============================] - 4s 32ms/step - loss: 0.0598 - val_loss: 0.7090\n",
            "Epoch 46/50\n",
            "125/125 [==============================] - 4s 32ms/step - loss: 0.0594 - val_loss: 0.7149\n",
            "Epoch 47/50\n",
            "125/125 [==============================] - 4s 32ms/step - loss: 0.0587 - val_loss: 0.7143\n",
            "Epoch 48/50\n",
            "125/125 [==============================] - 4s 32ms/step - loss: 0.0584 - val_loss: 0.7223\n",
            "Epoch 49/50\n",
            "125/125 [==============================] - 4s 32ms/step - loss: 0.0578 - val_loss: 0.7236\n",
            "Epoch 50/50\n",
            "125/125 [==============================] - 4s 32ms/step - loss: 0.0572 - val_loss: 0.7186\n"
          ],
          "name": "stdout"
        },
        {
          "output_type": "execute_result",
          "data": {
            "text/plain": [
              "<tensorflow.python.keras.callbacks.History at 0x7f915e2f3320>"
            ]
          },
          "metadata": {
            "tags": []
          },
          "execution_count": 33
        }
      ]
    },
    {
      "cell_type": "markdown",
      "metadata": {
        "id": "onfC8weQ23DA"
      },
      "source": [
        "#Defining the sample model using the parameters of the trained model"
      ]
    },
    {
      "cell_type": "code",
      "metadata": {
        "id": "PbkuMCUgbdW7"
      },
      "source": [
        "# Define sampling models\n",
        "encoder_model = Model(encoder_inputs, encoder_states)\n",
        "decoder_state_input_h = Input(shape=(latent_dim,))\n",
        "decoder_state_input_c = Input(shape=(latent_dim,))\n",
        "decoder_states_inputs = [decoder_state_input_h, decoder_state_input_c]\n",
        "decoder_outputs, state_h, state_c = decoder_lstm(decoder_inputs, initial_state=decoder_states_inputs)\n",
        "decoder_states = [state_h, state_c]\n",
        "decoder_outputs = decoder_dense(decoder_outputs)\n",
        "decoder_model = Model([decoder_inputs] + decoder_states_inputs, [decoder_outputs] + decoder_states)"
      ],
      "execution_count": null,
      "outputs": []
    },
    {
      "cell_type": "markdown",
      "metadata": {
        "id": "ow6pkW1d3SYr"
      },
      "source": [
        "#Defining the decode sequence for the text"
      ]
    },
    {
      "cell_type": "code",
      "metadata": {
        "id": "08iloPz1bteo"
      },
      "source": [
        "# Reverse-lookup token index to decode sequences back to\n",
        "# something readable.\n",
        "reverse_input_char_index = dict(\n",
        "    (i, char) for char, i in input_token_index.items())\n",
        "reverse_target_char_index = dict(\n",
        "    (i, char) for char, i in target_token_index.items())\n",
        "\n",
        "\n",
        "def decode_sequence(input_seq):\n",
        "    # Encode the input as state vectors.\n",
        "    states_value = encoder_model.predict(input_seq)\n",
        "\n",
        "    # Generate empty target sequence of length 1.\n",
        "    target_seq = np.zeros((1, 1, num_decoder_tokens))\n",
        "    # Populate the first character of target sequence with the start character.\n",
        "    target_seq[0, 0, target_token_index['\\t']] = 1.\n",
        "\n",
        "    # Sampling loop for a batch of sequences\n",
        "    # (to simplify, here we assume a batch of size 1).\n",
        "    stop_condition = False\n",
        "    decoded_sentence = ''\n",
        "    while not stop_condition:\n",
        "        output_tokens, h, c = decoder_model.predict(\n",
        "            [target_seq] + states_value)\n",
        "\n",
        "        # Sample a token\n",
        "        sampled_token_index = np.argmax(output_tokens[0, -1, :])\n",
        "        sampled_char = reverse_target_char_index[sampled_token_index]\n",
        "        decoded_sentence += sampled_char\n",
        "\n",
        "        # Exit condition: either hit max length\n",
        "        # or find stop character.\n",
        "        if (sampled_char == '\\n' or\n",
        "           len(decoded_sentence) > max_decoder_seq_length):\n",
        "            stop_condition = True\n",
        "\n",
        "        # Update the target sequence (of length 1).\n",
        "        target_seq = np.zeros((1, 1, num_decoder_tokens))\n",
        "        target_seq[0, 0, sampled_token_index] = 1.\n",
        "\n",
        "        # Update states\n",
        "        states_value = [h, c]\n",
        "\n",
        "    return decoded_sentence"
      ],
      "execution_count": null,
      "outputs": []
    },
    {
      "cell_type": "markdown",
      "metadata": {
        "id": "J6p-Xaih3h3V"
      },
      "source": [
        "#Checking the model to decode the input sequence into the target sequence"
      ]
    },
    {
      "cell_type": "code",
      "metadata": {
        "id": "mR1OppiZbxzI",
        "outputId": "e63f1d63-b829-4370-ef90-88ead103f16e",
        "colab": {
          "base_uri": "https://localhost:8080/",
          "height": 697
        }
      },
      "source": [
        "for seq_index in range(10):\n",
        "    # Take one sequence (part of the training set)\n",
        "    # for trying out decoding.\n",
        "    input_seq = encoder_input_data[seq_index: seq_index + 1]\n",
        "    decoded_sentence = decode_sequence(input_seq)\n",
        "    print('-')\n",
        "    print('Input sentence:', input_texts[seq_index])\n",
        "    print('Decoded sentence:', decoded_sentence)"
      ],
      "execution_count": null,
      "outputs": [
        {
          "output_type": "stream",
          "text": [
            "-\n",
            "Input sentence: Go.\n",
            "Decoded sentence: Va !\n",
            "\n",
            "-\n",
            "Input sentence: Run!\n",
            "Decoded sentence: Courez !\n",
            "\n",
            "-\n",
            "Input sentence: Run!\n",
            "Decoded sentence: Courez !\n",
            "\n",
            "-\n",
            "Input sentence: Wow!\n",
            "Decoded sentence: Travaillez len miennes.\n",
            "\n",
            "-\n",
            "Input sentence: Fire!\n",
            "Decoded sentence: Au feu !\n",
            "\n",
            "-\n",
            "Input sentence: Help!\n",
            "Decoded sentence: À l'aide !\n",
            "\n",
            "-\n",
            "Input sentence: Jump.\n",
            "Decoded sentence: Saute.\n",
            "\n",
            "-\n",
            "Input sentence: Stop!\n",
            "Decoded sentence: Arrête ça maintenant.\n",
            "\n",
            "-\n",
            "Input sentence: Stop!\n",
            "Decoded sentence: Arrête ça maintenant.\n",
            "\n",
            "-\n",
            "Input sentence: Stop!\n",
            "Decoded sentence: Arrête ça maintenant.\n",
            "\n"
          ],
          "name": "stdout"
        }
      ]
    }
  ]
}