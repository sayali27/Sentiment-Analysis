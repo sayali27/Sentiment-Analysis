{
  "nbformat": 4,
  "nbformat_minor": 0,
  "metadata": {
    "colab": {
      "name": "Word Embedding.ipynb",
      "provenance": [],
      "collapsed_sections": [],
      "toc_visible": true,
      "include_colab_link": true
    },
    "kernelspec": {
      "name": "python3",
      "display_name": "Python 3"
    }
  },
  "cells": [
    {
      "cell_type": "markdown",
      "metadata": {
        "id": "view-in-github",
        "colab_type": "text"
      },
      "source": [
        "<a href=\"https://colab.research.google.com/github/sayali27/Sentiment-Analysis/blob/master/Word_Embedding.ipynb\" target=\"_parent\"><img src=\"https://colab.research.google.com/assets/colab-badge.svg\" alt=\"Open In Colab\"/></a>"
      ]
    },
    {
      "cell_type": "markdown",
      "metadata": {
        "id": "6hCoPsNLnFSj"
      },
      "source": [
        "#Importing required libraries"
      ]
    },
    {
      "cell_type": "code",
      "metadata": {
        "id": "NoAMhtO0j1yA"
      },
      "source": [
        "from nltk.tokenize import sent_tokenize, word_tokenize \n",
        "import warnings \n",
        "import gensim \n",
        "from gensim.models import Word2Vec \n",
        "import nltk\n",
        "nltk.download('punkt')\n",
        "warnings.filterwarnings(action = 'ignore') "
      ],
      "execution_count": null,
      "outputs": []
    },
    {
      "cell_type": "markdown",
      "metadata": {
        "id": "tOqO8ix-nTdo"
      },
      "source": [
        "#Reading the text file"
      ]
    },
    {
      "cell_type": "markdown",
      "metadata": {
        "id": "rlVwuTp2nylK"
      },
      "source": [
        "http://www.gutenberg.org/files/11/11-0.txt"
      ]
    },
    {
      "cell_type": "code",
      "metadata": {
        "id": "1yLVDxyqkLP_"
      },
      "source": [
        "sample = open(\"/content/new 9.txt\", \"r\") \n",
        "s = sample.read()"
      ],
      "execution_count": null,
      "outputs": []
    },
    {
      "cell_type": "code",
      "metadata": {
        "id": "Z7BpDqJ7kXP0"
      },
      "source": [
        "print(s)"
      ],
      "execution_count": null,
      "outputs": []
    },
    {
      "cell_type": "code",
      "metadata": {
        "id": "smxEKgvykczx"
      },
      "source": [
        "# Replaces escape character with space \n",
        "f = s.replace(\"\\n\", \" \")"
      ],
      "execution_count": null,
      "outputs": []
    },
    {
      "cell_type": "code",
      "metadata": {
        "id": "S-w3drM5kg_X"
      },
      "source": [
        "print(f)"
      ],
      "execution_count": null,
      "outputs": []
    },
    {
      "cell_type": "markdown",
      "metadata": {
        "id": "hnFA3AVpncuJ"
      },
      "source": [
        "#Data preprocessing"
      ]
    },
    {
      "cell_type": "code",
      "metadata": {
        "id": "9OHCZoQiknxA"
      },
      "source": [
        "data = [] \n",
        "  \n",
        "# iterate through each sentence in the file \n",
        "for i in sent_tokenize(f): \n",
        "    temp = [] \n",
        "      \n",
        "    # tokenize the sentence into words \n",
        "    for j in word_tokenize(i): \n",
        "        temp.append(j.lower()) \n",
        "  \n",
        "    data.append(temp) "
      ],
      "execution_count": null,
      "outputs": []
    },
    {
      "cell_type": "code",
      "metadata": {
        "id": "bQRvJv5tk1GP"
      },
      "source": [
        "data"
      ],
      "execution_count": null,
      "outputs": []
    },
    {
      "cell_type": "markdown",
      "metadata": {
        "id": "6vYIDes6nkN5"
      },
      "source": [
        "#CBoW Model"
      ]
    },
    {
      "cell_type": "code",
      "metadata": {
        "id": "O_OeMd5dk36-"
      },
      "source": [
        "# Create CBOW model \n",
        "model1 = gensim.models.Word2Vec(data, min_count = 1, size = 100, window = 5) "
      ],
      "execution_count": null,
      "outputs": []
    },
    {
      "cell_type": "code",
      "metadata": {
        "id": "pm7nDXoMk9jd"
      },
      "source": [
        "model1"
      ],
      "execution_count": null,
      "outputs": []
    },
    {
      "cell_type": "code",
      "metadata": {
        "id": "b5O5KGCvlFvu"
      },
      "source": [
        "# Print results \n",
        "print(\"Cosine similarity between 'alice' \" + \n",
        "               \"and 'wonderland' - CBOW : \", \n",
        "    model1.similarity('alice', 'wonderland')) \n",
        "      \n",
        "print(\"Cosine similarity between 'alice' \" +\n",
        "                 \"and 'machines' - CBOW : \", \n",
        "      model1.similarity('alice', 'machines'))"
      ],
      "execution_count": null,
      "outputs": []
    },
    {
      "cell_type": "markdown",
      "metadata": {
        "id": "BG58Z2ZEnqAA"
      },
      "source": [
        "#Skip Gram Model"
      ]
    },
    {
      "cell_type": "code",
      "metadata": {
        "id": "_ceit4xblMn6"
      },
      "source": [
        "# Create Skip Gram model \n",
        "model2 = gensim.models.Word2Vec(data, min_count = 1, size = 100, window = 5, sg = 1)"
      ],
      "execution_count": null,
      "outputs": []
    },
    {
      "cell_type": "code",
      "metadata": {
        "id": "0pzBWIAvlRqs"
      },
      "source": [
        "model2"
      ],
      "execution_count": null,
      "outputs": []
    },
    {
      "cell_type": "code",
      "metadata": {
        "id": "tJj76Gs5lTwb"
      },
      "source": [
        "# Print results \n",
        "print(\"Cosine similarity between 'alice' \" +\n",
        "          \"and 'wonderland' - Skip Gram : \", \n",
        "    model2.similarity('alice', 'wonderland')) \n",
        "      \n",
        "print(\"Cosine similarity between 'alice' \" +\n",
        "            \"and 'machines' - Skip Gram : \", \n",
        "      model2.similarity('alice', 'machines'))"
      ],
      "execution_count": null,
      "outputs": []
    }
  ]
}